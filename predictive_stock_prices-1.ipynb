{
 "cells": [
  {
   "cell_type": "code",
   "execution_count": 82,
   "metadata": {},
   "outputs": [
    {
     "data": {
      "text/html": [
       "<div>\n",
       "<style scoped>\n",
       "    .dataframe tbody tr th:only-of-type {\n",
       "        vertical-align: middle;\n",
       "    }\n",
       "\n",
       "    .dataframe tbody tr th {\n",
       "        vertical-align: top;\n",
       "    }\n",
       "\n",
       "    .dataframe thead th {\n",
       "        text-align: right;\n",
       "    }\n",
       "</style>\n",
       "<table border=\"1\" class=\"dataframe\">\n",
       "  <thead>\n",
       "    <tr style=\"text-align: right;\">\n",
       "      <th></th>\n",
       "      <th>date</th>\n",
       "      <th>open</th>\n",
       "      <th>high</th>\n",
       "      <th>low</th>\n",
       "      <th>close</th>\n",
       "      <th>volume</th>\n",
       "      <th>Name</th>\n",
       "    </tr>\n",
       "  </thead>\n",
       "  <tbody>\n",
       "    <tr>\n",
       "      <th>0</th>\n",
       "      <td>2013-02-08</td>\n",
       "      <td>261.40</td>\n",
       "      <td>265.25</td>\n",
       "      <td>260.555</td>\n",
       "      <td>261.95</td>\n",
       "      <td>3879078</td>\n",
       "      <td>AMZN</td>\n",
       "    </tr>\n",
       "    <tr>\n",
       "      <th>1</th>\n",
       "      <td>2013-02-11</td>\n",
       "      <td>263.20</td>\n",
       "      <td>263.25</td>\n",
       "      <td>256.600</td>\n",
       "      <td>257.21</td>\n",
       "      <td>3403403</td>\n",
       "      <td>AMZN</td>\n",
       "    </tr>\n",
       "    <tr>\n",
       "      <th>2</th>\n",
       "      <td>2013-02-12</td>\n",
       "      <td>259.19</td>\n",
       "      <td>260.16</td>\n",
       "      <td>257.000</td>\n",
       "      <td>258.70</td>\n",
       "      <td>2938660</td>\n",
       "      <td>AMZN</td>\n",
       "    </tr>\n",
       "    <tr>\n",
       "      <th>3</th>\n",
       "      <td>2013-02-13</td>\n",
       "      <td>261.53</td>\n",
       "      <td>269.96</td>\n",
       "      <td>260.300</td>\n",
       "      <td>269.47</td>\n",
       "      <td>5292996</td>\n",
       "      <td>AMZN</td>\n",
       "    </tr>\n",
       "    <tr>\n",
       "      <th>4</th>\n",
       "      <td>2013-02-14</td>\n",
       "      <td>267.37</td>\n",
       "      <td>270.65</td>\n",
       "      <td>265.400</td>\n",
       "      <td>269.24</td>\n",
       "      <td>3462780</td>\n",
       "      <td>AMZN</td>\n",
       "    </tr>\n",
       "    <tr>\n",
       "      <th>...</th>\n",
       "      <td>...</td>\n",
       "      <td>...</td>\n",
       "      <td>...</td>\n",
       "      <td>...</td>\n",
       "      <td>...</td>\n",
       "      <td>...</td>\n",
       "      <td>...</td>\n",
       "    </tr>\n",
       "    <tr>\n",
       "      <th>1254</th>\n",
       "      <td>2018-02-01</td>\n",
       "      <td>1445.00</td>\n",
       "      <td>1459.88</td>\n",
       "      <td>1385.140</td>\n",
       "      <td>1390.00</td>\n",
       "      <td>9113808</td>\n",
       "      <td>AMZN</td>\n",
       "    </tr>\n",
       "    <tr>\n",
       "      <th>1255</th>\n",
       "      <td>2018-02-02</td>\n",
       "      <td>1477.39</td>\n",
       "      <td>1498.00</td>\n",
       "      <td>1414.000</td>\n",
       "      <td>1429.95</td>\n",
       "      <td>11125722</td>\n",
       "      <td>AMZN</td>\n",
       "    </tr>\n",
       "    <tr>\n",
       "      <th>1256</th>\n",
       "      <td>2018-02-05</td>\n",
       "      <td>1402.62</td>\n",
       "      <td>1458.98</td>\n",
       "      <td>1320.720</td>\n",
       "      <td>1390.00</td>\n",
       "      <td>11494985</td>\n",
       "      <td>AMZN</td>\n",
       "    </tr>\n",
       "    <tr>\n",
       "      <th>1257</th>\n",
       "      <td>2018-02-06</td>\n",
       "      <td>1361.46</td>\n",
       "      <td>1443.99</td>\n",
       "      <td>1351.790</td>\n",
       "      <td>1442.84</td>\n",
       "      <td>11066819</td>\n",
       "      <td>AMZN</td>\n",
       "    </tr>\n",
       "    <tr>\n",
       "      <th>1258</th>\n",
       "      <td>2018-02-07</td>\n",
       "      <td>1449.00</td>\n",
       "      <td>1460.99</td>\n",
       "      <td>1415.150</td>\n",
       "      <td>1416.78</td>\n",
       "      <td>7162741</td>\n",
       "      <td>AMZN</td>\n",
       "    </tr>\n",
       "  </tbody>\n",
       "</table>\n",
       "<p>1259 rows × 7 columns</p>\n",
       "</div>"
      ],
      "text/plain": [
       "            date     open     high       low    close    volume  Name\n",
       "0     2013-02-08   261.40   265.25   260.555   261.95   3879078  AMZN\n",
       "1     2013-02-11   263.20   263.25   256.600   257.21   3403403  AMZN\n",
       "2     2013-02-12   259.19   260.16   257.000   258.70   2938660  AMZN\n",
       "3     2013-02-13   261.53   269.96   260.300   269.47   5292996  AMZN\n",
       "4     2013-02-14   267.37   270.65   265.400   269.24   3462780  AMZN\n",
       "...          ...      ...      ...       ...      ...       ...   ...\n",
       "1254  2018-02-01  1445.00  1459.88  1385.140  1390.00   9113808  AMZN\n",
       "1255  2018-02-02  1477.39  1498.00  1414.000  1429.95  11125722  AMZN\n",
       "1256  2018-02-05  1402.62  1458.98  1320.720  1390.00  11494985  AMZN\n",
       "1257  2018-02-06  1361.46  1443.99  1351.790  1442.84  11066819  AMZN\n",
       "1258  2018-02-07  1449.00  1460.99  1415.150  1416.78   7162741  AMZN\n",
       "\n",
       "[1259 rows x 7 columns]"
      ]
     },
     "execution_count": 82,
     "metadata": {},
     "output_type": "execute_result"
    }
   ],
   "source": [
    "# Firstly we get some \n",
    "import pandas as pd\n",
    "import numpy as np \n",
    "import matplotlib.pyplot as plt\n",
    "\n",
    "import torch \n",
    "import torch.nn as nn \n",
    "# Here we load up our data into a pandas dataframe\n",
    "data = pd.read_csv('/Users/kecichilala/Downloads/archive/individual_stocks_5yr/individual_stocks_5yr/AMZN_data.csv')\n",
    "\n",
    "data\n",
    "# I don't care about all the columns basically\n",
    "# That's why in the cell below I created a dataframe with cells I do care about"
   ]
  },
  {
   "cell_type": "code",
   "execution_count": 83,
   "metadata": {},
   "outputs": [
    {
     "data": {
      "text/html": [
       "<div>\n",
       "<style scoped>\n",
       "    .dataframe tbody tr th:only-of-type {\n",
       "        vertical-align: middle;\n",
       "    }\n",
       "\n",
       "    .dataframe tbody tr th {\n",
       "        vertical-align: top;\n",
       "    }\n",
       "\n",
       "    .dataframe thead th {\n",
       "        text-align: right;\n",
       "    }\n",
       "</style>\n",
       "<table border=\"1\" class=\"dataframe\">\n",
       "  <thead>\n",
       "    <tr style=\"text-align: right;\">\n",
       "      <th></th>\n",
       "      <th>date</th>\n",
       "      <th>close</th>\n",
       "    </tr>\n",
       "  </thead>\n",
       "  <tbody>\n",
       "    <tr>\n",
       "      <th>0</th>\n",
       "      <td>2013-02-08</td>\n",
       "      <td>261.95</td>\n",
       "    </tr>\n",
       "    <tr>\n",
       "      <th>1</th>\n",
       "      <td>2013-02-11</td>\n",
       "      <td>257.21</td>\n",
       "    </tr>\n",
       "    <tr>\n",
       "      <th>2</th>\n",
       "      <td>2013-02-12</td>\n",
       "      <td>258.70</td>\n",
       "    </tr>\n",
       "    <tr>\n",
       "      <th>3</th>\n",
       "      <td>2013-02-13</td>\n",
       "      <td>269.47</td>\n",
       "    </tr>\n",
       "    <tr>\n",
       "      <th>4</th>\n",
       "      <td>2013-02-14</td>\n",
       "      <td>269.24</td>\n",
       "    </tr>\n",
       "    <tr>\n",
       "      <th>...</th>\n",
       "      <td>...</td>\n",
       "      <td>...</td>\n",
       "    </tr>\n",
       "    <tr>\n",
       "      <th>1254</th>\n",
       "      <td>2018-02-01</td>\n",
       "      <td>1390.00</td>\n",
       "    </tr>\n",
       "    <tr>\n",
       "      <th>1255</th>\n",
       "      <td>2018-02-02</td>\n",
       "      <td>1429.95</td>\n",
       "    </tr>\n",
       "    <tr>\n",
       "      <th>1256</th>\n",
       "      <td>2018-02-05</td>\n",
       "      <td>1390.00</td>\n",
       "    </tr>\n",
       "    <tr>\n",
       "      <th>1257</th>\n",
       "      <td>2018-02-06</td>\n",
       "      <td>1442.84</td>\n",
       "    </tr>\n",
       "    <tr>\n",
       "      <th>1258</th>\n",
       "      <td>2018-02-07</td>\n",
       "      <td>1416.78</td>\n",
       "    </tr>\n",
       "  </tbody>\n",
       "</table>\n",
       "<p>1259 rows × 2 columns</p>\n",
       "</div>"
      ],
      "text/plain": [
       "            date    close\n",
       "0     2013-02-08   261.95\n",
       "1     2013-02-11   257.21\n",
       "2     2013-02-12   258.70\n",
       "3     2013-02-13   269.47\n",
       "4     2013-02-14   269.24\n",
       "...          ...      ...\n",
       "1254  2018-02-01  1390.00\n",
       "1255  2018-02-02  1429.95\n",
       "1256  2018-02-05  1390.00\n",
       "1257  2018-02-06  1442.84\n",
       "1258  2018-02-07  1416.78\n",
       "\n",
       "[1259 rows x 2 columns]"
      ]
     },
     "execution_count": 83,
     "metadata": {},
     "output_type": "execute_result"
    }
   ],
   "source": [
    "# Here I created a subset with the columns I want to work with\n",
    "data = data[['date', 'close']]\n",
    "\n",
    "data"
   ]
  },
  {
   "cell_type": "code",
   "execution_count": 84,
   "metadata": {},
   "outputs": [
    {
     "data": {
      "text/plain": [
       "'cpu'"
      ]
     },
     "execution_count": 84,
     "metadata": {},
     "output_type": "execute_result"
    }
   ],
   "source": [
    "# On pytorch by default it's going to use CPU\n",
    "# But I want to use GPU so that's what the code below does\n",
    "device = 'cuda: 0 ' if torch.cuda.is_available() else 'cpu'\n",
    "device"
   ]
  },
  {
   "cell_type": "code",
   "execution_count": 85,
   "metadata": {},
   "outputs": [
    {
     "name": "stderr",
     "output_type": "stream",
     "text": [
      "/var/folders/5f/ttqm_dp90cv1qr1xm29zwjd80000gn/T/ipykernel_79846/3507580475.py:3: SettingWithCopyWarning: \n",
      "A value is trying to be set on a copy of a slice from a DataFrame.\n",
      "Try using .loc[row_indexer,col_indexer] = value instead\n",
      "\n",
      "See the caveats in the documentation: https://pandas.pydata.org/pandas-docs/stable/user_guide/indexing.html#returning-a-view-versus-a-copy\n",
      "  data['date'] = pd.to_datetime(data['date'])\n"
     ]
    },
    {
     "data": {
      "text/plain": [
       "Text(0, 0.5, 'close prices')"
      ]
     },
     "execution_count": 85,
     "metadata": {},
     "output_type": "execute_result"
    },
    {
     "data": {
      "image/png": "[encoded data removed]",
      "text/plain": [
       "<Figure size 640x480 with 1 Axes>"
      ]
     },
     "metadata": {},
     "output_type": "display_data"
    }
   ],
   "source": [
    "# Now we are going to do some simple transformation\n",
    "# We make the date column a pandas date type \n",
    "data['date'] = pd.to_datetime(data['date'])\n",
    "\n",
    "# This makes a plot of the date in the x - axis\n",
    "# And a plot of the close price in the y - axis \n",
    "plt.plot(data['date'], data['close'])\n",
    "\n",
    "# I Add labels to the axes for clarity\n",
    "plt.xlabel('date in years')\n",
    "plt.ylabel('close prices')"
   ]
  },
  {
   "cell_type": "code",
   "execution_count": 86,
   "metadata": {},
   "outputs": [
    {
     "data": {
      "text/html": [
       "<div>\n",
       "<style scoped>\n",
       "    .dataframe tbody tr th:only-of-type {\n",
       "        vertical-align: middle;\n",
       "    }\n",
       "\n",
       "    .dataframe tbody tr th {\n",
       "        vertical-align: top;\n",
       "    }\n",
       "\n",
       "    .dataframe thead th {\n",
       "        text-align: right;\n",
       "    }\n",
       "</style>\n",
       "<table border=\"1\" class=\"dataframe\">\n",
       "  <thead>\n",
       "    <tr style=\"text-align: right;\">\n",
       "      <th></th>\n",
       "      <th>close</th>\n",
       "      <th>close(t-1)</th>\n",
       "      <th>close(t-2)</th>\n",
       "      <th>close(t-3)</th>\n",
       "      <th>close(t-4)</th>\n",
       "      <th>close(t-5)</th>\n",
       "      <th>close(t-6)</th>\n",
       "      <th>close(t-7)</th>\n",
       "    </tr>\n",
       "    <tr>\n",
       "      <th>date</th>\n",
       "      <th></th>\n",
       "      <th></th>\n",
       "      <th></th>\n",
       "      <th></th>\n",
       "      <th></th>\n",
       "      <th></th>\n",
       "      <th></th>\n",
       "      <th></th>\n",
       "    </tr>\n",
       "  </thead>\n",
       "  <tbody>\n",
       "    <tr>\n",
       "      <th>2013-02-20</th>\n",
       "      <td>266.41</td>\n",
       "      <td>269.75</td>\n",
       "      <td>265.09</td>\n",
       "      <td>269.24</td>\n",
       "      <td>269.47</td>\n",
       "      <td>258.70</td>\n",
       "      <td>257.21</td>\n",
       "      <td>261.95</td>\n",
       "    </tr>\n",
       "    <tr>\n",
       "      <th>2013-02-21</th>\n",
       "      <td>265.94</td>\n",
       "      <td>266.41</td>\n",
       "      <td>269.75</td>\n",
       "      <td>265.09</td>\n",
       "      <td>269.24</td>\n",
       "      <td>269.47</td>\n",
       "      <td>258.70</td>\n",
       "      <td>257.21</td>\n",
       "    </tr>\n",
       "    <tr>\n",
       "      <th>2013-02-22</th>\n",
       "      <td>265.42</td>\n",
       "      <td>265.94</td>\n",
       "      <td>266.41</td>\n",
       "      <td>269.75</td>\n",
       "      <td>265.09</td>\n",
       "      <td>269.24</td>\n",
       "      <td>269.47</td>\n",
       "      <td>258.70</td>\n",
       "    </tr>\n",
       "    <tr>\n",
       "      <th>2013-02-25</th>\n",
       "      <td>259.87</td>\n",
       "      <td>265.42</td>\n",
       "      <td>265.94</td>\n",
       "      <td>266.41</td>\n",
       "      <td>269.75</td>\n",
       "      <td>265.09</td>\n",
       "      <td>269.24</td>\n",
       "      <td>269.47</td>\n",
       "    </tr>\n",
       "    <tr>\n",
       "      <th>2013-02-26</th>\n",
       "      <td>259.36</td>\n",
       "      <td>259.87</td>\n",
       "      <td>265.42</td>\n",
       "      <td>265.94</td>\n",
       "      <td>266.41</td>\n",
       "      <td>269.75</td>\n",
       "      <td>265.09</td>\n",
       "      <td>269.24</td>\n",
       "    </tr>\n",
       "    <tr>\n",
       "      <th>...</th>\n",
       "      <td>...</td>\n",
       "      <td>...</td>\n",
       "      <td>...</td>\n",
       "      <td>...</td>\n",
       "      <td>...</td>\n",
       "      <td>...</td>\n",
       "      <td>...</td>\n",
       "      <td>...</td>\n",
       "    </tr>\n",
       "    <tr>\n",
       "      <th>2018-02-01</th>\n",
       "      <td>1390.00</td>\n",
       "      <td>1450.89</td>\n",
       "      <td>1437.82</td>\n",
       "      <td>1417.68</td>\n",
       "      <td>1402.05</td>\n",
       "      <td>1377.95</td>\n",
       "      <td>1357.51</td>\n",
       "      <td>1362.54</td>\n",
       "    </tr>\n",
       "    <tr>\n",
       "      <th>2018-02-02</th>\n",
       "      <td>1429.95</td>\n",
       "      <td>1390.00</td>\n",
       "      <td>1450.89</td>\n",
       "      <td>1437.82</td>\n",
       "      <td>1417.68</td>\n",
       "      <td>1402.05</td>\n",
       "      <td>1377.95</td>\n",
       "      <td>1357.51</td>\n",
       "    </tr>\n",
       "    <tr>\n",
       "      <th>2018-02-05</th>\n",
       "      <td>1390.00</td>\n",
       "      <td>1429.95</td>\n",
       "      <td>1390.00</td>\n",
       "      <td>1450.89</td>\n",
       "      <td>1437.82</td>\n",
       "      <td>1417.68</td>\n",
       "      <td>1402.05</td>\n",
       "      <td>1377.95</td>\n",
       "    </tr>\n",
       "    <tr>\n",
       "      <th>2018-02-06</th>\n",
       "      <td>1442.84</td>\n",
       "      <td>1390.00</td>\n",
       "      <td>1429.95</td>\n",
       "      <td>1390.00</td>\n",
       "      <td>1450.89</td>\n",
       "      <td>1437.82</td>\n",
       "      <td>1417.68</td>\n",
       "      <td>1402.05</td>\n",
       "    </tr>\n",
       "    <tr>\n",
       "      <th>2018-02-07</th>\n",
       "      <td>1416.78</td>\n",
       "      <td>1442.84</td>\n",
       "      <td>1390.00</td>\n",
       "      <td>1429.95</td>\n",
       "      <td>1390.00</td>\n",
       "      <td>1450.89</td>\n",
       "      <td>1437.82</td>\n",
       "      <td>1417.68</td>\n",
       "    </tr>\n",
       "  </tbody>\n",
       "</table>\n",
       "<p>1252 rows × 8 columns</p>\n",
       "</div>"
      ],
      "text/plain": [
       "              close  close(t-1)  close(t-2)  close(t-3)  close(t-4)  \\\n",
       "date                                                                  \n",
       "2013-02-20   266.41      269.75      265.09      269.24      269.47   \n",
       "2013-02-21   265.94      266.41      269.75      265.09      269.24   \n",
       "2013-02-22   265.42      265.94      266.41      269.75      265.09   \n",
       "2013-02-25   259.87      265.42      265.94      266.41      269.75   \n",
       "2013-02-26   259.36      259.87      265.42      265.94      266.41   \n",
       "...             ...         ...         ...         ...         ...   \n",
       "2018-02-01  1390.00     1450.89     1437.82     1417.68     1402.05   \n",
       "2018-02-02  1429.95     1390.00     1450.89     1437.82     1417.68   \n",
       "2018-02-05  1390.00     1429.95     1390.00     1450.89     1437.82   \n",
       "2018-02-06  1442.84     1390.00     1429.95     1390.00     1450.89   \n",
       "2018-02-07  1416.78     1442.84     1390.00     1429.95     1390.00   \n",
       "\n",
       "            close(t-5)  close(t-6)  close(t-7)  \n",
       "date                                            \n",
       "2013-02-20      258.70      257.21      261.95  \n",
       "2013-02-21      269.47      258.70      257.21  \n",
       "2013-02-22      269.24      269.47      258.70  \n",
       "2013-02-25      265.09      269.24      269.47  \n",
       "2013-02-26      269.75      265.09      269.24  \n",
       "...                ...         ...         ...  \n",
       "2018-02-01     1377.95     1357.51     1362.54  \n",
       "2018-02-02     1402.05     1377.95     1357.51  \n",
       "2018-02-05     1417.68     1402.05     1377.95  \n",
       "2018-02-06     1437.82     1417.68     1402.05  \n",
       "2018-02-07     1450.89     1437.82     1417.68  \n",
       "\n",
       "[1252 rows x 8 columns]"
      ]
     },
     "execution_count": 86,
     "metadata": {},
     "output_type": "execute_result"
    }
   ],
   "source": [
    "# Now I want to set up the data frame in a way\n",
    "# That's close that how the model will take the input\n",
    "\n",
    "from copy import deepcopy as dc\n",
    "\n",
    "# This function prepares a data frame for LSTM\n",
    "# The reason we do this is to train the model to predict to closing price \n",
    "# based on the prices of the last week (that's why we keep our lookback variable on 7)\n",
    "def prepare_dataframe_for_lstm(df, n_steps):\n",
    "    df = dc(df)\n",
    "\n",
    "    df.set_index('date', inplace=True)\n",
    "\n",
    "    for i in range(1, n_steps+1):\n",
    "        df[f'close(t-{i})'] = df['close'].shift(i)\n",
    "\n",
    "    df.dropna(inplace=True)\n",
    "\n",
    "    return df\n",
    "\n",
    "lookback = 7 #we stick to (week) 7 because it's more logical for the model\n",
    "# The reason this modele likes this is because now we have a input and output pair\n",
    "shifted_df = prepare_dataframe_for_lstm(data, lookback)\n",
    "shifted_df"
   ]
  },
  {
   "cell_type": "code",
   "execution_count": 87,
   "metadata": {},
   "outputs": [
    {
     "data": {
      "text/plain": [
       "array([[ 266.41,  269.75,  265.09, ...,  258.7 ,  257.21,  261.95],\n",
       "       [ 265.94,  266.41,  269.75, ...,  269.47,  258.7 ,  257.21],\n",
       "       [ 265.42,  265.94,  266.41, ...,  269.24,  269.47,  258.7 ],\n",
       "       ...,\n",
       "       [1390.  , 1429.95, 1390.  , ..., 1417.68, 1402.05, 1377.95],\n",
       "       [1442.84, 1390.  , 1429.95, ..., 1437.82, 1417.68, 1402.05],\n",
       "       [1416.78, 1442.84, 1390.  , ..., 1450.89, 1437.82, 1417.68]])"
      ]
     },
     "execution_count": 87,
     "metadata": {},
     "output_type": "execute_result"
    }
   ],
   "source": [
    "# now we have that data frame we convert the data frame to numpy \n",
    "\n",
    "shifted_df_as_np = shifted_df.to_numpy()\n",
    "\n",
    "shifted_df_as_np"
   ]
  },
  {
   "cell_type": "code",
   "execution_count": 88,
   "metadata": {},
   "outputs": [
    {
     "data": {
      "text/plain": [
       "array([[-0.96976702, -0.96421266, -0.97196215, ..., -0.9825886 ,\n",
       "        -0.98490236, -0.97653598],\n",
       "       [-0.97054862, -0.96976702, -0.96421266, ..., -0.9646783 ,\n",
       "        -0.9823973 , -0.98464235],\n",
       "       [-0.97141337, -0.97054862, -0.96976702, ..., -0.96506078,\n",
       "        -0.96429022, -0.98209415],\n",
       "       ...,\n",
       "       [ 0.89874112,  0.96517719,  0.89874112, ...,  0.94477242,\n",
       "         0.93986163,  0.93205353],\n",
       "       [ 0.98661301,  0.89874112,  0.96517719, ...,  0.97826485,\n",
       "         0.96613959,  0.97326949],\n",
       "       [ 0.94327574,  0.98661301,  0.89874112, ...,  1.        ,\n",
       "         1.        ,  1.        ]])"
      ]
     },
     "execution_count": 88,
     "metadata": {},
     "output_type": "execute_result"
    }
   ],
   "source": [
    "from sklearn.preprocessing import MinMaxScaler\n",
    "# Now we run a scaler on all the data \n",
    "scaler = MinMaxScaler(feature_range=(-1, 1))\n",
    "# Here we override the matrix we have above \n",
    "shifted_df_as_np = scaler.fit_transform(shifted_df_as_np)\n",
    "\n",
    "shifted_df_as_np\n"
   ]
  },
  {
   "cell_type": "code",
   "execution_count": 89,
   "metadata": {},
   "outputs": [
    {
     "data": {
      "text/plain": [
       "((1252, 7), (1252,))"
      ]
     },
     "execution_count": 89,
     "metadata": {},
     "output_type": "execute_result"
    }
   ],
   "source": [
    "# Now that our data is scaled I am going to make it x and y\n",
    "x = shifted_df_as_np[:, 1:]\n",
    "y = shifted_df_as_np[:, 0]\n",
    "\n",
    "x.shape, y.shape"
   ]
  },
  {
   "cell_type": "code",
   "execution_count": 90,
   "metadata": {},
   "outputs": [
    {
     "data": {
      "text/plain": [
       "array([[-0.97653598, -0.98490236, -0.9825886 , ..., -0.96506078,\n",
       "        -0.97196215, -0.96421266],\n",
       "       [-0.98464235, -0.9823973 , -0.9646783 , ..., -0.97196215,\n",
       "        -0.96421266, -0.96976702],\n",
       "       [-0.98209415, -0.96429022, -0.96506078, ..., -0.96421266,\n",
       "        -0.96976702, -0.97054862],\n",
       "       ...,\n",
       "       [ 0.93205353,  0.93986163,  0.94477242, ...,  1.        ,\n",
       "         0.89874112,  0.96517719],\n",
       "       [ 0.97326949,  0.96613959,  0.97826485, ...,  0.89874112,\n",
       "         0.96517719,  0.89874112],\n",
       "       [ 1.        ,  1.        ,  1.        , ...,  0.96517719,\n",
       "         0.89874112,  0.98661301]])"
      ]
     },
     "execution_count": 90,
     "metadata": {},
     "output_type": "execute_result"
    }
   ],
   "source": [
    "# We mirrored the data frame above\n",
    "# Because for an LSTM I want it rerepeatedly to get the updated answer\n",
    "# Until it gets to the close to updated answer there is \n",
    "x = dc(np.flip(x, axis=1))\n",
    "x"
   ]
  },
  {
   "cell_type": "code",
   "execution_count": 91,
   "metadata": {},
   "outputs": [
    {
     "data": {
      "text/plain": [
       "((1189, 7), (63, 7), (1189,), (63,))"
      ]
     },
     "execution_count": 91,
     "metadata": {},
     "output_type": "execute_result"
    }
   ],
   "source": [
    "# Now we are going to split the data in to train and Test \n",
    "# Using the split method\n",
    "\n",
    "split_index = int(len(x)* 0.95)\n",
    "\n",
    "split_index \n",
    "\n",
    "x_train = x[:split_index]\n",
    "x_test = x[split_index:]\n",
    "\n",
    "y_train = y[:split_index]\n",
    "y_test = y[split_index:]\n",
    "\n",
    "x_train.shape, x_test.shape, y_train.shape, y_test.shape"
   ]
  },
  {
   "cell_type": "code",
   "execution_count": 92,
   "metadata": {},
   "outputs": [
    {
     "data": {
      "text/plain": [
       "((1189, 7, 1), (63, 7, 1), (1189, 1), (63, 1))"
      ]
     },
     "execution_count": 92,
     "metadata": {},
     "output_type": "execute_result"
    }
   ],
   "source": [
    "# For pytorch LSTM is required to have a extra dimension at the end\n",
    "# so we reshape all of these things \n",
    "\n",
    "x_train = x_train.reshape((-1, lookback, 1))\n",
    "x_test = x_test.reshape((-1, lookback, 1))\n",
    "\n",
    "y_train = y_train.reshape((-1, 1))\n",
    "y_test = y_test.reshape((-1, 1))\n",
    "\n",
    "x_train.shape, x_test.shape, y_train.shape, y_test.shape"
   ]
  },
  {
   "cell_type": "code",
   "execution_count": 93,
   "metadata": {},
   "outputs": [
    {
     "data": {
      "text/plain": [
       "(torch.Size([1189, 7, 1]),\n",
       " torch.Size([63, 7, 1]),\n",
       " torch.Size([1189, 1]),\n",
       " torch.Size([63, 1]))"
      ]
     },
     "execution_count": 93,
     "metadata": {},
     "output_type": "execute_result"
    }
   ],
   "source": [
    "# Now we are putting this into Pytorch tensors\n",
    "x_train = torch.tensor(x_train).float()\n",
    "y_train = torch.tensor(y_train).float()\n",
    "x_test = torch.tensor(x_test).float()\n",
    "y_test = torch.tensor(y_test).float()\n",
    "\n",
    "x_train.shape, x_test.shape, y_train.shape, y_test.shape"
   ]
  },
  {
   "cell_type": "code",
   "execution_count": 94,
   "metadata": {},
   "outputs": [],
   "source": [
    "# When training models in pytorch we use datasets instead of raw pytorch\n",
    "# That's why i made my own costum class\n",
    "\n",
    "from torch.utils.data import Dataset\n",
    "\n",
    "class timeseriesdataset(Dataset):\n",
    "    def __init__(self, x,y):\n",
    "        self.x = x\n",
    "        self.y = y\n",
    "\n",
    "    def __len__(self):\n",
    "        return len(self.x)\n",
    "    \n",
    "    def __getitem__(self, i):\n",
    "        return self.x[i], self.y[i]\n",
    "    \n",
    "\n",
    "train_dataset = timeseriesdataset(x_train, y_train)\n",
    "test_dataset = timeseriesdataset(x_test, y_test)"
   ]
  },
  {
   "cell_type": "code",
   "execution_count": 95,
   "metadata": {},
   "outputs": [],
   "source": [
    "# we also save the datasets in DataLoader\n",
    "# we iterator of the loaders, get batches and make updates for our model\n",
    "from torch.utils.data import DataLoader\n",
    "\n",
    "batchsize = 16 \n",
    "train_loader = DataLoader(train_dataset, batch_size=batchsize, shuffle=True)\n",
    "test_loader = DataLoader(test_dataset, batch_size=batchsize, shuffle=False)"
   ]
  },
  {
   "cell_type": "code",
   "execution_count": 96,
   "metadata": {},
   "outputs": [
    {
     "name": "stdout",
     "output_type": "stream",
     "text": [
      "torch.Size([16, 7, 1]) torch.Size([16, 1])\n"
     ]
    }
   ],
   "source": [
    "# For visualisation this is quite helpfull to do\n",
    "# \n",
    "for _, batch in enumerate(train_loader):\n",
    "    x_batch, y_batch = batch[0].to(device), batch[1].to(device)\n",
    "    print(x_batch.shape, y_batch.shape)\n",
    "    break"
   ]
  },
  {
   "cell_type": "code",
   "execution_count": 98,
   "metadata": {},
   "outputs": [
    {
     "data": {
      "text/plain": [
       "LSTM(\n",
       "  (lstm): LSTM(1, 4, batch_first=True)\n",
       "  (fc): Linear(in_features=4, out_features=1, bias=True)\n",
       ")"
      ]
     },
     "execution_count": 98,
     "metadata": {},
     "output_type": "execute_result"
    }
   ],
   "source": [
    "#\n",
    "\n",
    "class LSTM(nn.Module):\n",
    "    def __init__(self, input_size, hidden_size, num_stacked_layers):\n",
    "        super().__init__()\n",
    "        self.hidden_size = hidden_size\n",
    "        self.num_stacked_layers = num_stacked_layers\n",
    "        self.lstm = nn.LSTM(input_size, hidden_size, num_stacked_layers,\n",
    "                            batch_first=True)\n",
    "        self.fc = nn.Linear(hidden_size, 1)\n",
    "#\n",
    "    def forward(self, x):\n",
    "        batch_size = x.size(0)\n",
    "        h0 = torch.zeros(self.num_stacked_layers, batch_size, self.hidden_size).to(device)\n",
    "        c0 = torch.zeros(self.num_stacked_layers, batch_size, self.hidden_size).to(device)\n",
    "        out, _= self.lstm(x, (h0, c0))\n",
    "        out = self. fc(out[:, -1, :])\n",
    "        return out\n",
    "    \n",
    "model = LSTM(1, 4, 1)\n",
    "model.to(device)\n",
    " "
   ]
  },
  {
   "cell_type": "code",
   "execution_count": 102,
   "metadata": {},
   "outputs": [],
   "source": [
    "#This creates the training fucntion \n",
    "def train_one_epoch():\n",
    "    model.train(True)\n",
    "    print(f'Epoch: {epoch + 1}')\n",
    "    running_loss = 0.0\n",
    "\n",
    "    for batch_index, batch in enumerate(train_loader):\n",
    "        x_batch, y_batch = batch[0].to(device), batch[1].to(device)\n",
    "\n",
    "        output = model(x_batch)\n",
    "        loss = loss_function(output, y_batch)\n",
    "        running_loss += loss\n",
    "        optimizer.zero_grad()\n",
    "        loss.backward()\n",
    "        optimizer.step()\n",
    "\n",
    "        if batch_index % 100 == 99: # prints every 100 batches \n",
    "            avg_loss_across_batches = running_loss / 100\n",
    "            print('Batch {0}, Loss: {1:.3f}'.format(batch_index+1,\n",
    "                                                    avg_loss_across_batches))\n",
    "    print() \n",
    "            "
   ]
  },
  {
   "cell_type": "code",
   "execution_count": 105,
   "metadata": {},
   "outputs": [],
   "source": [
    "# Now we create validate function \n",
    "\n",
    "def validate_one_epoch():\n",
    "    model.train(False)\n",
    "    running_loss = 0.0\n",
    "\n",
    "    for batch_index, batch in enumerate(test_loader):\n",
    "        x_batch, y_batch = batch[0].to(device), batch[1].to(device)\n",
    "\n",
    "        with torch.no_grad():\n",
    "            output = model(x_batch)\n",
    "            loss = loss_function(output, y_batch)\n",
    "            running_loss += loss\n",
    "    \n",
    "    agv_loss_across_batches = running_loss / len(test_loader)\n",
    "\n",
    "    print('Val loss: {0:.3f}'.format(agv_loss_across_batches))\n",
    "    print('*******')\n",
    "    print( )\n"
   ]
  },
  {
   "cell_type": "code",
   "execution_count": 109,
   "metadata": {},
   "outputs": [
    {
     "name": "stdout",
     "output_type": "stream",
     "text": [
      "Epoch: 1\n",
      "\n",
      "Val loss: 0.023\n",
      "*******\n",
      "\n",
      "Epoch: 2\n",
      "\n",
      "Val loss: 0.024\n",
      "*******\n",
      "\n",
      "Epoch: 3\n",
      "\n",
      "Val loss: 0.024\n",
      "*******\n",
      "\n",
      "Epoch: 4\n",
      "\n",
      "Val loss: 0.024\n",
      "*******\n",
      "\n",
      "Epoch: 5\n",
      "\n",
      "Val loss: 0.021\n",
      "*******\n",
      "\n",
      "Epoch: 6\n",
      "\n",
      "Val loss: 0.020\n",
      "*******\n",
      "\n",
      "Epoch: 7\n",
      "\n",
      "Val loss: 0.020\n",
      "*******\n",
      "\n",
      "Epoch: 8\n",
      "\n",
      "Val loss: 0.020\n",
      "*******\n",
      "\n",
      "Epoch: 9\n",
      "\n",
      "Val loss: 0.019\n",
      "*******\n",
      "\n",
      "Epoch: 10\n",
      "\n",
      "Val loss: 0.021\n",
      "*******\n",
      "\n"
     ]
    }
   ],
   "source": [
    "# Now we are coding a training loop \n",
    "# Play around with the learning rate, Batchsize, model arcitecture  \n",
    "learning_rate = 0.001\n",
    "num_epochs = 10 \n",
    "loss_function = nn.MSELoss()\n",
    "optimizer = torch.optim.Adam(model.parameters(), lr=learning_rate)\n",
    "\n",
    "for epoch in range(num_epochs):\n",
    "    train_one_epoch()\n",
    "    validate_one_epoch()"
   ]
  },
  {
   "cell_type": "code",
   "execution_count": 116,
   "metadata": {},
   "outputs": [
    {
     "data": {
      "image/png": "[encoded data removed]",
      "text/plain": [
       "<Figure size 640x480 with 1 Axes>"
      ]
     },
     "metadata": {},
     "output_type": "display_data"
    }
   ],
   "source": [
    "#This is some code to do some plottings\n",
    "\n",
    "with torch.no_grad():\n",
    "    predicted = model(x_train.to(device)).to('cpu').numpy()\n",
    "\n",
    "plt.plot(y_train, label= 'Actual Close')\n",
    "plt.plot(predicted, label ='predicted Close')\n",
    "plt.xlabel('Day')\n",
    "plt.ylabel('Close')\n",
    "plt.legend()\n",
    "plt.show()"
   ]
  },
  {
   "cell_type": "code",
   "execution_count": 117,
   "metadata": {},
   "outputs": [
    {
     "data": {
      "text/plain": [
       "array([ 272.81206251,  273.14453347,  273.47327686, ..., 1076.06053561,\n",
       "       1079.23789848, 1086.04677897])"
      ]
     },
     "execution_count": 117,
     "metadata": {},
     "output_type": "execute_result"
    }
   ],
   "source": [
    "# I made a matrix that made a shape that\n",
    "train_predictions = predicted.flatten()\n",
    "\n",
    "# this code adjust the proper shape \n",
    "dummies = np.zeros((x_train.shape[0], lookback+1))\n",
    "dummies[:, 0] = train_predictions\n",
    "dummies = scaler.inverse_transform(dummies)\n",
    "\n",
    "train_predictions = dc(dummies[:, 0])\n",
    "train_predictions"
   ]
  },
  {
   "cell_type": "code",
   "execution_count": 118,
   "metadata": {},
   "outputs": [
    {
     "data": {
      "text/plain": [
       "array([ 266.40998941,  265.93999247,  265.41999584, ..., 1094.22000544,\n",
       "       1111.60000005, 1120.65999495])"
      ]
     },
     "execution_count": 118,
     "metadata": {},
     "output_type": "execute_result"
    }
   ],
   "source": [
    "\n",
    "\n",
    "# this code adjust the proper shape \n",
    "dummies = np.zeros((x_train.shape[0], lookback+1))\n",
    "dummies[:, 0] = y_train.flatten()\n",
    "dummies = scaler.inverse_transform(dummies)\n",
    "\n",
    "new_y_train = dc(dummies[:, 0])\n",
    "new_y_train"
   ]
  },
  {
   "cell_type": "code",
   "execution_count": 122,
   "metadata": {},
   "outputs": [
    {
     "data": {
      "image/png": "[encoded data removed]",
      "text/plain": [
       "<Figure size 640x480 with 1 Axes>"
      ]
     },
     "metadata": {},
     "output_type": "display_data"
    }
   ],
   "source": [
    "#This is some code to do some plottings\n",
    "\n",
    "plt.plot(new_y_train, label= 'Actual Close')\n",
    "plt.plot(train_predictions, label ='predicted Close')\n",
    "plt.xlabel('day')\n",
    "plt.ylabel('close')\n",
    "plt.legend()\n",
    "plt.show()"
   ]
  },
  {
   "cell_type": "code",
   "execution_count": 127,
   "metadata": {},
   "outputs": [
    {
     "data": {
      "text/plain": [
       "array([1092.77429799, 1096.67463107, 1101.98068978, 1104.30712628,\n",
       "       1104.64647892, 1105.93715154, 1108.75591458, 1107.55441701,\n",
       "       1109.80802244, 1109.03437156, 1107.5305462 , 1110.35436298,\n",
       "       1116.83546783, 1129.07807646, 1139.44331378, 1145.29718255,\n",
       "       1140.61355707, 1141.56799531, 1138.05479233, 1127.87134595,\n",
       "       1123.0979361 , 1122.91725627, 1125.00129291, 1127.33031004,\n",
       "       1130.67168618, 1131.90759213, 1132.62077746, 1135.64828467,\n",
       "       1138.72629334, 1143.59418287, 1145.83613963, 1144.70413981,\n",
       "       1143.23174794, 1140.53477622, 1140.88273095, 1142.48419008,\n",
       "       1144.46141737, 1141.48462668, 1144.7561108 , 1150.63800807,\n",
       "       1155.7155378 , 1163.59813892, 1172.56220255, 1179.35990032,\n",
       "       1184.01650089, 1191.53021551, 1201.74634986, 1207.73340773,\n",
       "       1209.396336  , 1210.06292665, 1210.65625613, 1217.13305993,\n",
       "       1227.0088739 , 1231.77848449, 1238.14238579, 1245.73696011,\n",
       "       1252.43150443, 1259.14784072, 1264.62500944, 1259.28930934,\n",
       "       1262.1531617 , 1257.94533957, 1262.82459103])"
      ]
     },
     "execution_count": 127,
     "metadata": {},
     "output_type": "execute_result"
    }
   ],
   "source": [
    "# Predictions are made using the trained model on the test data, \n",
    "# and the results are detached from the computation graph, moved to CPU, and converted to NumPy array.\n",
    "test_predictions = model(x_test.to(device)).detach().cpu().numpy().flatten()\n",
    "\n",
    "# Create a matrix of zeros with dimensions (number of test samples, lookback + 1).\n",
    "dummies = np.zeros((x_test.shape[0], lookback + 1))\n",
    "\n",
    "# Set the first column of the 'dummies' matrix to be the test predictions.\n",
    "dummies[:, 0] = test_predictions\n",
    "\n",
    "# Inverse transform the 'dummies' matrix back to the original scale using the scaler that was used for preprocessing.\n",
    "dummies = scaler.inverse_transform(dummies)\n",
    "\n",
    "# Extract the first column of the transformed matrix (which corresponds to the predicted values after inverse transformation).\n",
    "test_predictions = dummies[:, 0]\n",
    "\n",
    "# Display or use the test predictions as needed in the variable 'test_predictions'.\n",
    "# Note: 'dc' seems to be a function or variable not defined in the provided code.\n",
    "# If 'dc' is a function, it might be used to further process the predictions.\n",
    "test_predictions = dc(dummies[:, 0])\n",
    "test_predictions\n"
   ]
  },
  {
   "cell_type": "code",
   "execution_count": 128,
   "metadata": {},
   "outputs": [
    {
     "data": {
      "text/plain": [
       "array([1123.16999656, 1132.88000516, 1129.12999368, 1125.35000032,\n",
       "       1129.16999342, 1136.83999736, 1126.68999162, 1137.28999443,\n",
       "       1129.88000673, 1126.30999408, 1139.48999806, 1156.1600152 ,\n",
       "       1186.00000055, 1195.83000837, 1193.59998701, 1161.27001785,\n",
       "       1176.74998896, 1162.35001083, 1133.94999821, 1141.57000247,\n",
       "       1152.35000412, 1159.78999162, 1162.0000131 , 1168.92000399,\n",
       "       1165.07999309, 1164.12999927, 1174.26000514, 1179.14000927,\n",
       "       1190.58000663, 1187.37999158, 1177.61998331, 1174.76000189,\n",
       "       1168.36000763, 1176.75998889, 1182.259989  , 1186.0999999 ,\n",
       "       1169.47000041, 1189.01001683, 1204.19998983, 1209.58999065,\n",
       "       1229.14000701, 1246.86999934, 1252.69999731, 1254.32998672,\n",
       "       1276.67998488, 1305.20001464, 1304.86001685, 1295.00000923,\n",
       "       1293.3199843 , 1294.58001195, 1327.31001436, 1362.54000053,\n",
       "       1357.50999737, 1377.95000794, 1402.04999473, 1417.68000071,\n",
       "       1437.82001323, 1450.89      , 1390.00000133, 1429.94999268,\n",
       "       1390.00000133, 1442.84001646, 1416.78000656])"
      ]
     },
     "execution_count": 128,
     "metadata": {},
     "output_type": "execute_result"
    }
   ],
   "source": [
    "# Create a matrix of zeros with dimensions (number of test samples, lookback + 1).\n",
    "dummies = np.zeros((x_test.shape[0], lookback + 1))\n",
    "\n",
    "# Set the first column of the 'dummies' matrix to be the actual test labels after flattening the y_test array.\n",
    "dummies[:, 0] = y_test.flatten()\n",
    "\n",
    "# Inverse transform the 'dummies' matrix back to the original scale using the scaler that was used for preprocessing.\n",
    "dummies = scaler.inverse_transform(dummies)\n",
    "\n",
    "# Extract the first column of the transformed matrix (which corresponds to the original values after inverse transformation).\n",
    "# The result represents the test labels in their original scale.\n",
    "new_y_test = dummies[:, 0]\n",
    "\n",
    "# Apply the 'dc' function (assuming it's a defined function) to further process the new_y_test data if necessary.\n",
    "new_y_test = dc(dummies[:, 0])\n",
    "\n",
    "# Display or use the transformed test labels as needed in the variable 'new_y_test'.\n",
    "# Note: Ensure that 'dc' function is defined and behaves as intended to avoid any errors.\n",
    "new_y_test\n"
   ]
  },
  {
   "cell_type": "code",
   "execution_count": 129,
   "metadata": {},
   "outputs": [
    {
     "data": {
      "image/png": "[encoded data removed]",
      "text/plain": [
       "<Figure size 640x480 with 1 Axes>"
      ]
     },
     "metadata": {},
     "output_type": "display_data"
    }
   ],
   "source": [
    "# Plot the actual close prices from the test dataset using a blue line.\n",
    "plt.plot(new_y_test, label='Actual Close')\n",
    "\n",
    "# Plot the predicted close prices generated by the model using an orange line.\n",
    "plt.plot(test_predictions, label='Predicted Close')\n",
    "\n",
    "# Label the x-axis of the plot as 'Day' to represent the timeline of the data points.\n",
    "plt.xlabel('Day')\n",
    "\n",
    "# Label the y-axis of the plot as 'Close' to represent the stock prices.\n",
    "plt.ylabel('Close')\n",
    "\n",
    "# Add a legend to the plot to distinguish between the actual and predicted close prices.\n",
    "plt.legend()\n",
    "\n",
    "# Display the plot, showing the actual and predicted close prices.\n",
    "plt.show()\n"
   ]
  }
 ],
 "metadata": {
  "kernelspec": {
   "display_name": "base",
   "language": "python",
   "name": "python3"
  },
  "language_info": {
   "codemirror_mode": {
    "name": "ipython",
    "version": 3
   },
   "file_extension": ".py",
   "mimetype": "text/x-python",
   "name": "python",
   "nbconvert_exporter": "python",
   "pygments_lexer": "ipython3",
   "version": "3.10.13"
  }
 },
 "nbformat": 4,
 "nbformat_minor": 2
}
